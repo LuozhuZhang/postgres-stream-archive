{
 "cells": [
  {
   "cell_type": "markdown",
   "metadata": {},
   "source": [
    "# test decimal"
   ]
  },
  {
   "cell_type": "code",
   "execution_count": 35,
   "metadata": {},
   "outputs": [],
   "source": [
    "from sqlalchemy import create_engine\n",
    "from sqlalchemy.orm import sessionmaker\n",
    "conn_str = 'clickhouse://default:@localhost/default'\n",
    "engine = create_engine(conn_str)\n",
    "session = sessionmaker(bind=engine)()"
   ]
  },
  {
   "cell_type": "code",
   "execution_count": 36,
   "metadata": {},
   "outputs": [
    {
     "data": {
      "text/plain": [
       "<sqlalchemy.engine.cursor.LegacyCursorResult at 0x7fb698da4310>"
      ]
     },
     "execution_count": 36,
     "metadata": {},
     "output_type": "execute_result"
    }
   ],
   "source": [
    "from sqlalchemy import DDL\n",
    "database = 'test'\n",
    "engine.execute(DDL(f'CREATE DATABASE IF NOT EXISTS {database}'))"
   ]
  },
  {
   "cell_type": "code",
   "execution_count": 37,
   "metadata": {},
   "outputs": [],
   "source": [
    "from sqlalchemy.ext.declarative import declarative_base\n",
    "from sqlalchemy import Column, Integer, String, Date, DECIMAL\n",
    "from clickhouse_sqlalchemy import engines\n",
    "Base = declarative_base()\n",
    "class NewTable(Base):\n",
    "    __tablename__ = 'new_table'\n",
    "    __table_args__ = (\n",
    "        engines.MergeTree(order_by=['id']),\n",
    "        {'schema': database},\n",
    "    )\n",
    "    id = Column(Integer, primary_key=True)\n",
    "    var1 = Column(String)\n",
    "    var2 = Column(Date)\n",
    "    var_integer = Column(Integer)\n",
    "    var3 = Column(DECIMAL(38,4))"
   ]
  },
  {
   "cell_type": "code",
   "execution_count": 39,
   "metadata": {},
   "outputs": [],
   "source": [
    "NewTable.__table__.create(engine)"
   ]
  },
  {
   "cell_type": "code",
   "execution_count": 41,
   "metadata": {},
   "outputs": [],
   "source": [
    "from datetime import date\n",
    "row = NewTable(id=1, var1=f'1', var2=date(2021, 5, 3), var_integer=307200000000000000000,var3=3072000000000000000000000000)\n",
    "session.add(row)\n",
    "session.commit()"
   ]
  },
  {
   "cell_type": "code",
   "execution_count": null,
   "metadata": {},
   "outputs": [],
   "source": []
  }
 ],
 "metadata": {
  "interpreter": {
   "hash": "ed0541f89b863e53b19d7ee932e1db400ba10136249599211c245c6ef2345233"
  },
  "kernelspec": {
   "display_name": "Python 3.8.8 ('base')",
   "language": "python",
   "name": "python3"
  },
  "language_info": {
   "codemirror_mode": {
    "name": "ipython",
    "version": 3
   },
   "file_extension": ".py",
   "mimetype": "text/x-python",
   "name": "python",
   "nbconvert_exporter": "python",
   "pygments_lexer": "ipython3",
   "version": "3.8.8"
  },
  "orig_nbformat": 4
 },
 "nbformat": 4,
 "nbformat_minor": 2
}
