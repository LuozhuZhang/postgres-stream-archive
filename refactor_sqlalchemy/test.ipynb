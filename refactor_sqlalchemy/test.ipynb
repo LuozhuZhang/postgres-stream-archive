{
 "cells": [
  {
   "cell_type": "code",
   "execution_count": 6,
   "metadata": {},
   "outputs": [],
   "source": [
    "from sqlalchemy import create_engine, Column, MetaData\n",
    "\n",
    "from clickhouse_sqlalchemy import Table, make_session, types, engines\n",
    "\n",
    "uri = 'clickhouse://default:@localhost/test'\n",
    "\n",
    "engine = create_engine(uri)\n",
    "session = make_session(engine)\n",
    "metadata = MetaData(bind=engine)\n",
    "\n",
    "Blocks = Table('blocks', metadata,\n",
    "    Column('number', types.Int64, primary_key=True),\n",
    "    Column('parent_hash', types.String),\n",
    "    Column('nonce', types.String),\n",
    "    Column('sha3_uncles', types.String),\n",
    "    Column('logs_bloom', types.String),\n",
    "    Column('transactions_root', types.String),\n",
    "    Column('state_root', types.String),\n",
    "    Column('receipts_root', types.String),\n",
    "    Column('miner', types.String),\n",
    "    Column('difficulty', types.Float64),\n",
    "    Column('total_difficulty', types.Float64),\n",
    "    Column('size', types.Int64),\n",
    "    Column('extra_data', types.String),\n",
    "    Column('gas_limit', types.Int64),\n",
    "    Column('gas_used', types.Int64),\n",
    "    Column('timestamp', types.DateTime),\n",
    "    Column('transaction_count', types.Int64),\n",
    "    Column('base_fee_per_gas', types.Int64),\n",
    "    engines.Memory()\n",
    ")"
   ]
  },
  {
   "cell_type": "code",
   "execution_count": 7,
   "metadata": {},
   "outputs": [],
   "source": [
    "Blocks.create()\n",
    "# another_table.drop()"
   ]
  },
  {
   "cell_type": "code",
   "execution_count": 20,
   "metadata": {},
   "outputs": [],
   "source": [
    "null = None\n",
    "items = [{'type': 'block', 'number': 11, 'hash': '0x3f5e756c3efcb93099361b7ddd0dabfeaa592439437c1c836e443ccb81e93242', 'parent_hash': '0x4ff4a38b278ab49f7739d3a4ed4e12714386a9fdf72192f2e8f7da7822f10b4d', 'nonce': '0x23447ad120ba5531', 'sha3_uncles': '0x1dcc4de8dec75d7aab85b567b6ccd41ad312451b948a7413f0a142fd40d49347', 'logs_bloom': '0x00000000000000000000000000000000000000000000000000000000000000000000000000000000000000000000000000000000000000000000000000000000000000000000000000000000000000000000000000000000000000000000000000000000000000000000000000000000000000000000000000000000000000000000000000000000000000000000000000000000000000000000000000000000000000000000000000000000000000000000000000000000000000000000000000000000000000000000000000000000000000000000000000000000000000000000000000000000000000000000000000000000000000000000000000000000', 'transactions_root': '0x56e81f171bcc55a6ff8345e692c0f86e5b48e01b996cadc001622fb5e363b421', 'state_root': '0x03f930c087b70f3385db68fe6bf128719e2d9a4b0a133e53b32db2fa25d345fd', 'receipts_root': '0x56e81f171bcc55a6ff8345e692c0f86e5b48e01b996cadc001622fb5e363b421', 'miner': '0x19dafe19f11e960e4ccfc6a5aa8890ebd748ca1e', 'difficulty': 17171460106, 'total_difficulty': 205940342835, 'size': 544, 'extra_data': '0x476574682f76312e302e302d30636463373634372f6c696e75782f676f312e34', 'gas_limit': 5000, 'gas_used': 0, 'timestamp': '2015-07-30 15:28:56', 'transaction_count': 0, 'base_fee_per_gas': None, 'item_id': 'block_0x3f5e756c3efcb93099361b7ddd0dabfeaa592439437c1c836e443ccb81e93242', 'item_timestamp': '2015-07-30T15:28:56Z'}]"
   ]
  },
  {
   "cell_type": "code",
   "execution_count": 21,
   "metadata": {},
   "outputs": [],
   "source": [
    "striped = items[0]\n",
    "striped.pop('type',None)\n",
    "data_list = [striped]"
   ]
  },
  {
   "cell_type": "code",
   "execution_count": 30,
   "metadata": {},
   "outputs": [
    {
     "data": {
      "text/plain": [
       "<sqlalchemy.engine.cursor.CursorResult at 0x7f92509b2df0>"
      ]
     },
     "execution_count": 30,
     "metadata": {},
     "output_type": "execute_result"
    }
   ],
   "source": [
    "from datetime import date, timedelta\n",
    "from sqlalchemy import func\n",
    "\n",
    "today = date.today()\n",
    "data = data_list\n",
    "\n",
    "# Emits single INSERT statement.\n",
    "session.execute(Blocks.insert(), data)"
   ]
  },
  {
   "cell_type": "code",
   "execution_count": 34,
   "metadata": {},
   "outputs": [
    {
     "name": "stdout",
     "output_type": "stream",
     "text": [
      "[]\n"
     ]
    }
   ],
   "source": [
    "import sys\n",
    "sys.path.append('/Users/foooox/eth_data/eth_data/')\n",
    "import sqlUtils\n",
    "import os\n",
    "\n",
    "database = \"test\"\n",
    "\n",
    "sqlUtils.optimize(database,'blocks')"
   ]
  },
  {
   "cell_type": "code",
   "execution_count": null,
   "metadata": {},
   "outputs": [],
   "source": []
  }
 ],
 "metadata": {
  "interpreter": {
   "hash": "ed0541f89b863e53b19d7ee932e1db400ba10136249599211c245c6ef2345233"
  },
  "kernelspec": {
   "display_name": "Python 3.8.8 ('base')",
   "language": "python",
   "name": "python3"
  },
  "language_info": {
   "codemirror_mode": {
    "name": "ipython",
    "version": 3
   },
   "file_extension": ".py",
   "mimetype": "text/x-python",
   "name": "python",
   "nbconvert_exporter": "python",
   "pygments_lexer": "ipython3",
   "version": "3.8.8"
  },
  "orig_nbformat": 4
 },
 "nbformat": 4,
 "nbformat_minor": 2
}
